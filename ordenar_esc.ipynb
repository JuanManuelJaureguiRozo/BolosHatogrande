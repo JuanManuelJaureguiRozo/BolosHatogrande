{
 "cells": [
  {
   "cell_type": "code",
   "execution_count": null,
   "id": "51fb69aa",
   "metadata": {},
   "outputs": [
    {
     "name": "stdout",
     "output_type": "stream",
     "text": [
      "Archivo ordenado guardado en: escalafon_xlsx/Escalafón Masculino - Mayo Ordenado.xlsx\n"
     ]
    }
   ],
   "source": [
    "# Script para ordenar un DataFrame de Pandas por categorías y promedios\n",
    "import pandas as pd\n",
    "\n",
    "# Cargar el archivo Excel\n",
    "file_path = \"escalafon_xlsx/Escalafón Masculino - Mayo.xlsx\"\n",
    "df = pd.read_excel(file_path, header=None)\n",
    "\n",
    "# Identificar encabezado (fila 1 con \"JUGADOR\") y comenzar desde ahí\n",
    "header_row_index = df[df.iloc[:, 1] == \"JUGADOR\"].index[0]\n",
    "headers = df.iloc[header_row_index].tolist()\n",
    "\n",
    "# Datos a partir de la fila siguiente al encabezado\n",
    "data = df.iloc[header_row_index + 1:].reset_index(drop=True)\n",
    "\n",
    "# Identificar el índice de la columna PROMEDIO\n",
    "prom_col_index = headers.index(\"PROMEDIO\")\n",
    "\n",
    "# Identificar el índice de la columna HCP\n",
    "hcp_col_index = headers.index(\"HCP 180\")\n",
    "\n",
    "# Procesar bloques por categoría\n",
    "sorted_rows = [headers]\n",
    "current_block = []\n",
    "current_category_row = None\n",
    "\n",
    "for _, row in data.iterrows():\n",
    "    if isinstance(row[1], str) and \"CATEGORIA\" in row[1].upper():\n",
    "        # Si hay un bloque acumulado, ordenarlo y agregarlo\n",
    "        if current_category_row is not None and current_block:\n",
    "            current_block.sort(key=lambda r: float(r[prom_col_index]) if pd.notna(r[prom_col_index]) else 0, reverse=True)\n",
    "            for i, r in enumerate(current_block, 1):\n",
    "                r[0] = i  # asignar posición\n",
    "                sorted_rows.append(r)\n",
    "\n",
    "        # Registrar nueva categoría\n",
    "        current_category_row = row.tolist()\n",
    "        sorted_rows.append(current_category_row)\n",
    "        current_block = []\n",
    "    elif pd.notna(row[1]):\n",
    "        current_block.append(row.tolist())\n",
    "\n",
    "# Procesar el último bloque\n",
    "if current_category_row is not None and current_block:\n",
    "    current_block.sort(key=lambda r: float(r[prom_col_index]) if pd.notna(r[prom_col_index]) else 0, reverse=True)\n",
    "    for i, r in enumerate(current_block, 1):\n",
    "        r[0] = i\n",
    "        sorted_rows.append(r)\n",
    "\n",
    "# Crear DataFrame ordenado\n",
    "df_ordenado = pd.DataFrame(sorted_rows)\n",
    "df_ordenado.head(20)\n",
    "\n",
    "# Convertir la columna de promedio y HCP a tipo numérico\n",
    "df_ordenado[prom_col_index] = pd.to_numeric(df_ordenado[prom_col_index], errors='coerce')\n",
    "df_ordenado[hcp_col_index] = pd.to_numeric(df_ordenado[hcp_col_index], errors='coerce')\n",
    "\n",
    "# Mantener dos decimales en la columna de promedio\n",
    "df_ordenado[prom_col_index] = df_ordenado[prom_col_index].apply(lambda x: f\"{x:.2f}\" if pd.notna(x) else x)\n",
    "\n",
    "# Quitar los decimales de la columna HCP\n",
    "df_ordenado[hcp_col_index] = df_ordenado[hcp_col_index].apply(lambda x: f\"{int(x)}\" if pd.notna(x) else x)\n",
    "\n",
    "# Guardar el DataFrame ordenado en un nuevo archivo Excel\n",
    "output_file_path = \"escalafon_xlsx/Escalafón Masculino - Mayo Ordenado.xlsx\"\n",
    "df_ordenado.to_excel(output_file_path, index=False, header=False)\n",
    "print(f\"Archivo ordenado guardado en: {output_file_path}\")"
   ]
  }
 ],
 "metadata": {
  "kernelspec": {
   "display_name": "base",
   "language": "python",
   "name": "python3"
  },
  "language_info": {
   "codemirror_mode": {
    "name": "ipython",
    "version": 3
   },
   "file_extension": ".py",
   "mimetype": "text/x-python",
   "name": "python",
   "nbconvert_exporter": "python",
   "pygments_lexer": "ipython3",
   "version": "3.10.9"
  }
 },
 "nbformat": 4,
 "nbformat_minor": 5
}
